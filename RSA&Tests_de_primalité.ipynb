{
  "cells": [
    {
      "cell_type": "markdown",
      "id": "e7ffc782",
      "metadata": {
        "id": "e7ffc782"
      },
      "source": [
        "Tests de primalité et cryptographie\n",
        "\n",
        "Master 1 SSI, Decembre. 2022\n",
        "— Mrabet Ameur Hadjer || 191931080198\n",
        "— Ali-khodja Myriam  || 19199DZA6124"
      ]
    },
    {
      "cell_type": "code",
      "execution_count": null,
      "id": "10224e61",
      "metadata": {
        "id": "10224e61"
      },
      "outputs": [],
      "source": [
        "import random, sys, os, math, time "
      ]
    },
    {
      "cell_type": "markdown",
      "id": "fdcf32c8",
      "metadata": {
        "id": "fdcf32c8"
      },
      "source": [
        "# Partie 1: Nombre premier et inverse modulaire"
      ]
    },
    {
      "cell_type": "markdown",
      "id": "90293a48",
      "metadata": {
        "id": "90293a48"
      },
      "source": [
        "# Calcul du plus grand diviseur commun de a et b à l'aide de l'algorithme d'Euclide"
      ]
    },
    {
      "cell_type": "code",
      "execution_count": null,
      "id": "6f03f505",
      "metadata": {
        "id": "6f03f505"
      },
      "outputs": [],
      "source": [
        "def gcd(a, b):\n",
        "    # Return the Greatest Common Divisor of a and b using Euclid's Algorithm\n",
        "    while a != 0:\n",
        "        a, b = b % a, a        \n",
        "    return b"
      ]
    },
    {
      "cell_type": "markdown",
      "id": "5770b037",
      "metadata": {
        "id": "5770b037"
      },
      "source": [
        "**Exemple :** Vérifiez l'algorithme d'Euclide et essayez différentes valeurs."
      ]
    },
    {
      "cell_type": "code",
      "execution_count": null,
      "id": "3a72cdb4",
      "metadata": {
        "id": "3a72cdb4",
        "outputId": "37e71265-48bc-4a53-e287-0ff8d2231d41",
        "colab": {
          "base_uri": "https://localhost:8080/"
        }
      },
      "outputs": [
        {
          "output_type": "execute_result",
          "data": {
            "text/plain": [
              "3"
            ]
          },
          "metadata": {},
          "execution_count": 35
        }
      ],
      "source": [
        "#This is an example\n",
        "gcd(150,3)"
      ]
    },
    {
      "cell_type": "markdown",
      "id": "101fb021",
      "metadata": {
        "id": "101fb021"
      },
      "source": [
        "# Calcul de l'inverse modulaire d'un % m"
      ]
    },
    {
      "cell_type": "code",
      "execution_count": null,
      "id": "21a90b23",
      "metadata": {
        "id": "21a90b23"
      },
      "outputs": [],
      "source": [
        "def findModInverse(a, m):\n",
        "    # Return the modular inverse of a % m, which is\n",
        "    # the number x such that a*x % m = 1\n",
        "\n",
        "    if gcd(a, m) != 1:\n",
        "        return None # No mod inverse exists if a & m aren't relatively prime.\n",
        "\n",
        "    # Calculate using the Extended Euclidean Algorithm:\n",
        "    u1, u2, u3 = 1, 0, a\n",
        "    v1, v2, v3 = 0, 1, m\n",
        "    while v3 != 0:\n",
        "        q = u3 // v3 # Note that // is the integer division operator\n",
        "        v1, v2, v3, u1, u2, u3 = (u1 - q * v1), (u2 - q * v2), (u3 - q * v3), v1, v2, v3\n",
        "    return u1 % m"
      ]
    },
    {
      "cell_type": "markdown",
      "id": "4a57e03c",
      "metadata": {
        "id": "4a57e03c"
      },
      "source": [
        "**exemple:** Vérifiez l'algorithme euclidien étendu et essayez différentes valeurs."
      ]
    },
    {
      "cell_type": "code",
      "execution_count": null,
      "id": "8acf7729",
      "metadata": {
        "id": "8acf7729",
        "outputId": "20c66e0a-b8fb-4a96-8d7a-b5b5afc7f737",
        "colab": {
          "base_uri": "https://localhost:8080/"
        }
      },
      "outputs": [
        {
          "output_type": "execute_result",
          "data": {
            "text/plain": [
              "2"
            ]
          },
          "metadata": {},
          "execution_count": 37
        }
      ],
      "source": [
        "#This is an example\n",
        "findModInverse(4, 7)"
      ]
    },
    {
      "cell_type": "markdown",
      "id": "85599759",
      "metadata": {
        "id": "85599759"
      },
      "source": [
        "# Algorithmes pour vérifier si un nombre est un nombre premier"
      ]
    },
    {
      "cell_type": "markdown",
      "id": "71751a85",
      "metadata": {
        "id": "71751a85"
      },
      "source": []
    },
    {
      "cell_type": "code",
      "execution_count": null,
      "id": "a062d145",
      "metadata": {
        "id": "a062d145"
      },
      "outputs": [],
      "source": [
        "def isPrimeTrialDiv(num):\n",
        "    # Returns True if num is a prime number, otherwise False.\n",
        "\n",
        "    # Uses the trial division algorithm for testing primality.\n",
        "\n",
        "    # All numbers less than 2 are not prime:\n",
        "    if num < 2:\n",
        "        return False\n",
        "\n",
        "    # See if num is divisible by any number up to the square root of num:\n",
        "    for i in range(2, int(math.sqrt(num)) + 1):\n",
        "        if num % i == 0:\n",
        "            return False\n",
        "    return True"
      ]
    },
    {
      "cell_type": "markdown",
      "id": "af5b0843",
      "metadata": {
        "id": "af5b0843"
      },
      "source": [
        "**exemple:** Vérifiez l'algorithme et essayez différentes valeurs"
      ]
    },
    {
      "cell_type": "code",
      "execution_count": null,
      "id": "6b02e515",
      "metadata": {
        "id": "6b02e515",
        "outputId": "4d3509b5-f9e0-4361-b716-0c90fbf0801f",
        "colab": {
          "base_uri": "https://localhost:8080/"
        }
      },
      "outputs": [
        {
          "output_type": "execute_result",
          "data": {
            "text/plain": [
              "True"
            ]
          },
          "metadata": {},
          "execution_count": 9
        }
      ],
      "source": [
        "#This is an example\n",
        "isPrimeTrialDiv(13)"
      ]
    },
    {
      "cell_type": "code",
      "execution_count": null,
      "id": "d0b17d56",
      "metadata": {
        "id": "d0b17d56"
      },
      "outputs": [],
      "source": [
        "def primeSieve(sieveSize):\n",
        "    # Returns a list of prime numbers calculated using\n",
        "    # the Sieve of Eratosthenes algorithm.\n",
        "\n",
        "    sieve = [True] * sieveSize\n",
        "    sieve[0] = False # Zero and one are not prime numbers.\n",
        "    sieve[1] = False\n",
        "\n",
        "    # Create the sieve:\n",
        "    for i in range(2, int(math.sqrt(sieveSize)) + 1):\n",
        "        pointer = i * 2\n",
        "        while pointer < sieveSize:\n",
        "            sieve[pointer] = False\n",
        "            pointer += i\n",
        "\n",
        "    # Compile the list of primes:\n",
        "    primes = []\n",
        "    for i in range(sieveSize):\n",
        "        if sieve[i] == True:\n",
        "            primes.append(i)\n",
        "\n",
        "    return primes"
      ]
    },
    {
      "cell_type": "markdown",
      "id": "b04ed181",
      "metadata": {
        "id": "b04ed181"
      },
      "source": [
        "**Exemple:** Essayez différentes valeurs"
      ]
    },
    {
      "cell_type": "code",
      "execution_count": null,
      "id": "85b79233",
      "metadata": {
        "id": "85b79233",
        "outputId": "ff7be463-913a-4800-e735-45c556f867da",
        "colab": {
          "base_uri": "https://localhost:8080/"
        }
      },
      "outputs": [
        {
          "output_type": "stream",
          "name": "stdout",
          "text": [
            "[2, 3, 5, 7, 11, 13, 17, 19, 23, 29, 31, 37, 41, 43, 47, 53, 59, 61, 67, 71, 73, 79, 83, 89, 97, 101, 103, 107, 109, 113, 127, 131, 137, 139, 149, 151, 157, 163, 167, 173, 179, 181, 191, 193, 197, 199]\n"
          ]
        }
      ],
      "source": [
        "#This is an example\n",
        "n = primeSieve(200)\n",
        "print(n)\n"
      ]
    },
    {
      "cell_type": "markdown",
      "id": "0ee84e13",
      "metadata": {
        "id": "0ee84e13"
      },
      "source": [
        "# Rabin-Miller Algorithm"
      ]
    },
    {
      "cell_type": "code",
      "execution_count": null,
      "id": "13ac3c7e",
      "metadata": {
        "id": "13ac3c7e"
      },
      "outputs": [],
      "source": [
        "\n",
        "\n",
        "def rabinMiller(num):\n",
        "    start_time = time.time() # démarre le chronomètre\n",
        "    \n",
        "    # Returns True if num is a prime number.\n",
        "    if num % 2 == 0 or num < 2:\n",
        "        return False # Rabin-Miller doesn't work on even integers.\n",
        "    if num == 3:\n",
        "        return True\n",
        "    s = num - 1\n",
        "    t = 0\n",
        "    while s % 2 == 0:\n",
        "        # Keep halving s until it is odd (and use t\n",
        "        # to count how many times we halve s):\n",
        "        s = s // 2\n",
        "        t += 1\n",
        "    for trials in range(5): # Try to falsify num's primality 5 times.\n",
        "        a = random.randrange(2, num - 1)\n",
        "        v = pow(a, s, num)\n",
        "        if v != 1: # (This test does not apply if v is 1.)\n",
        "            i = 0\n",
        "            while v != (num - 1):\n",
        "                if i == t - 1:\n",
        "                    return False\n",
        "                else:\n",
        "                    i = i + 1\n",
        "                    v = (v ** 2) % num\n",
        "    end_time = time.time() # arrête le chronomètre\n",
        "    total_time = end_time - start_time # calcule le temps d'exécution\n",
        "    print(\"Temps d'exécution: \", total_time, \"secondes\") # affiche le temps d'exécution\n",
        "    return True"
      ]
    },
    {
      "cell_type": "markdown",
      "source": [
        "# Le principe de base du test de primalité de Miller-Rabin:\n",
        "  Est de tester la composité d'un nombre en utilisant un nombre choisi au hasard comme base. Si ce nombre est un nombre premier, il n'y a aucun nombre qui puisse facilement révéler sa composité. Si ce nombre est composé, il y a une petite chance que la base choisie révèle sa composité.\n",
        "\n",
        "L'algorithme fonctionne en effectuant un certain nombre d'essais avec des bases choisies au hasard, chacun consistant à vérifier si la valeur du nombre choisi à la puissance \"s\" modulo le nombre à tester est égale à 1 ou à \"num-1\". Si c'est le cas, le nombre est considéré comme peut-être premier. Si ce n'est pas le cas, l'algorithme continue à tester des puissances successives jusqu'à ce que la valeur soit égale à \"num-1\". Si aucun des essais ne révèle la composité du nombre, il est considéré comme premier. Cependant, il y a une petite probabilité que le nombre soit composé mais n'ait pas été détecté par l'algorithme. Par conséquent, l'algorithme est généralement exécuté plusieurs fois avec des bases différentes pour augmenter la fiabilité du résultat.\n",
        "\n",
        "- Vérifier si le nombre est pair ou inférieur à 2, renvoyer False dans ce cas.\n",
        "- Vérifier si le nombre est égal à 3, renvoyer True dans ce cas.\n",
        "- Initialiser \"s\" à \"num - 1\" et \"t\" à 0.\n",
        "- Boucle tant que \"s\" est pair :\n",
        "  -  Diviser \"s\" par 2 et incrémenter \"t\".\n",
        "- Effectuer 5 essais pour vérifier la primauté de \"num\" :\n",
        " - Générer un nombre aléatoire \"a\" entre 2 et \"num - 1\".\n",
        " - Calculer \"v\" en utilisant la fonction pow avec modulo \"num\".\n",
        " - Si \"v\" est égal à 1, passer à l'essai suivant.\n",
        " - Si \"v\" n'est pas égal à \"num - 1\", boucler jusqu'à ce que \"i\" atteigne \"t - 1\".\n",
        " - Si \"i\" atteint \"t - 1\", renvoyer False.\n",
        "- Si les 5 essais se sont terminés sans renvoyer False, renvoyer True."
      ],
      "metadata": {
        "id": "Viwpa4Gpz51n"
      },
      "id": "Viwpa4Gpz51n"
    },
    {
      "cell_type": "markdown",
      "id": "6c508731",
      "metadata": {
        "id": "6c508731"
      },
      "source": [
        "Comment fonctionne l'algorithme ? "
      ]
    },
    {
      "cell_type": "code",
      "execution_count": null,
      "id": "21d6605d",
      "metadata": {
        "id": "21d6605d",
        "outputId": "1211db7b-107c-421a-cb6d-d81d9f3d82c8",
        "colab": {
          "base_uri": "https://localhost:8080/"
        }
      },
      "outputs": [
        {
          "output_type": "execute_result",
          "data": {
            "text/plain": [
              "False"
            ]
          },
          "metadata": {},
          "execution_count": 39
        }
      ],
      "source": [
        "#This is an example\n",
        "rabinMiller(388799987688898777777777777777777776654787655677887777777777777777777777777777777777777777777777777777)\n"
      ]
    },
    {
      "cell_type": "markdown",
      "id": "84308ccf",
      "metadata": {
        "id": "84308ccf"
      },
      "source": [
        "# Algorithme optimisé de vérification des nombres premiers"
      ]
    },
    {
      "cell_type": "code",
      "execution_count": null,
      "id": "cbe7df26",
      "metadata": {
        "id": "cbe7df26",
        "outputId": "d32935f6-033a-47a6-e6f5-8e87f2ce4723",
        "colab": {
          "base_uri": "https://localhost:8080/"
        }
      },
      "outputs": [
        {
          "output_type": "stream",
          "name": "stdout",
          "text": [
            "[2, 3, 5, 7, 11, 13, 17, 19, 23, 29, 31, 37, 41, 43, 47, 53, 59, 61, 67, 71, 73, 79, 83, 89, 97]\n"
          ]
        }
      ],
      "source": [
        "# Most of the time we can quickly determine if num is not prime\n",
        "# by dividing by the first few dozen prime numbers. This is quicker\n",
        "# than rabinMiller(), but does not detect all composites.\n",
        "LOW_PRIMES = primeSieve(100)\n",
        "print(LOW_PRIMES)"
      ]
    },
    {
      "cell_type": "code",
      "execution_count": null,
      "id": "2a774dfc",
      "metadata": {
        "id": "2a774dfc"
      },
      "outputs": [],
      "source": [
        "def isPrime(num):\n",
        "    # Return True if num is a prime number. This function does a quicker\n",
        "    # prime number check before calling rabinMiller().\n",
        "    if (num < 2):\n",
        "        return False # 0, 1, and negative numbers are not prime.\n",
        "    # See if any of the low prime numbers can divide num:\n",
        "    for prime in LOW_PRIMES:\n",
        "        if (num % prime == 0):\n",
        "            return False\n",
        "        if (num == prime):\n",
        "            return True\n",
        "    # If all else fails, call rabinMiller() to determine if num is a prime:\n",
        "    return rabinMiller(num)"
      ]
    },
    {
      "cell_type": "markdown",
      "id": "e0f34a73",
      "metadata": {
        "id": "e0f34a73"
      },
      "source": [
        "**Exemple:** Vérifiez l'algorithme et essayez différentes valeurs."
      ]
    },
    {
      "cell_type": "code",
      "execution_count": null,
      "id": "a1f2e9dc",
      "metadata": {
        "id": "a1f2e9dc",
        "outputId": "f94ff3ae-4509-4308-ab90-45e3b59d6c75",
        "colab": {
          "base_uri": "https://localhost:8080/"
        }
      },
      "outputs": [
        {
          "output_type": "execute_result",
          "data": {
            "text/plain": [
              "False"
            ]
          },
          "metadata": {},
          "execution_count": 40
        }
      ],
      "source": [
        "# This is an exmaple\n",
        "isPrime(388799987688898777777777777777777776654787655677887777777777777777777777777777777777777777777777777777)"
      ]
    },
    {
      "cell_type": "markdown",
      "id": "cb13ac05",
      "metadata": {
        "id": "cb13ac05"
      },
      "source": [
        "# Génération de grands nombres premiers"
      ]
    },
    {
      "cell_type": "code",
      "execution_count": null,
      "id": "8d94f4aa",
      "metadata": {
        "id": "8d94f4aa"
      },
      "outputs": [],
      "source": [
        "def generateLargePrime(keysize=1024):\n",
        "    # Return a random prime number that is keysize bits in size.\n",
        "    i=0\n",
        "    while True:\n",
        "        num = random.randrange(2**(keysize-1), 2**(keysize))\n",
        "        #print('random number', i, dec(num))\n",
        "        i = i + 1\n",
        "        if isPrime(num):\n",
        "            #print('number of tries:', i)\n",
        "            return num"
      ]
    },
    {
      "cell_type": "markdown",
      "source": [
        "# Les étapaes de cet algorithme: \n",
        " L'algorithme \"generateLargePrime\" génère un nombre premier aléatoire de taille \"keysize\" bits. Les étapes sont les suivantes :\n",
        "\n",
        "- Définir la variable \"i\" à 0 pour compter le nombre d'essais.\n",
        "- Débuter une boucle infinie.\n",
        "- Générer un nombre aléatoire entre 2^(keysize-1) et 2^(keysize).\n",
        "- Incrémenter la variable \"i\".\n",
        "- Vérifier si le nombre généré est premier à l'aide de la fonction \"isPrime\".\n",
        "- Si le nombre est premier, renvoyer ce nombre et sortir de la boucle.\n",
        "- Répéter les étapes 3 à 6 jusqu'à ce qu'un nombre premier soit trouvé."
      ],
      "metadata": {
        "id": "vlgWSePDywXx"
      },
      "id": "vlgWSePDywXx"
    },
    {
      "cell_type": "markdown",
      "id": "fddbe58b",
      "metadata": {
        "id": "fddbe58b"
      },
      "source": [
        "**Exemple:** générez différents nombres premiers.  ?"
      ]
    },
    {
      "cell_type": "code",
      "execution_count": null,
      "id": "bbebadd6",
      "metadata": {
        "id": "bbebadd6",
        "outputId": "ae2e4bd8-7579-403e-a09d-afaa4eb3fcc8",
        "colab": {
          "base_uri": "https://localhost:8080/"
        }
      },
      "outputs": [
        {
          "output_type": "stream",
          "name": "stdout",
          "text": [
            "Temps d'exécution:  5.340576171875e-05 secondes\n",
            "11239841\n"
          ]
        }
      ],
      "source": [
        "key = generateLargePrime(24)\n",
        "print(int(key))"
      ]
    },
    {
      "cell_type": "markdown",
      "id": "3c3cf0a8",
      "metadata": {
        "id": "3c3cf0a8"
      },
      "source": [
        "# Partie 2: RSA Algorithm"
      ]
    },
    {
      "cell_type": "markdown",
      "id": "4d7e7f7b",
      "metadata": {
        "id": "4d7e7f7b"
      },
      "source": [
        "# Génération de la clé publique et de la clé privée RSA"
      ]
    },
    {
      "cell_type": "code",
      "execution_count": null,
      "id": "9becceae",
      "metadata": {
        "id": "9becceae"
      },
      "outputs": [],
      "source": [
        "def generateKey(keySize):\n",
        "    # Creates a public/private keys keySize bits in size.\n",
        "    p = 0\n",
        "    q = 0\n",
        "    # Step 1: Create two prime numbers, p and q. Calculate n = p * q.\n",
        "    print('Generating p & q primes...')\n",
        "    while p == q:\n",
        "        p = generateLargePrime(keySize)\n",
        "        q = generateLargePrime(keySize)\n",
        "    n = p * q\n",
        "\n",
        "    # Step 2: Create a number e that is relatively prime to (p-1)*(q-1):\n",
        "    print('Generating e that is relatively prime to (p-1)*(q-1)...')\n",
        "    while True:\n",
        "        # Keep trying random numbers for e until one is valid:\n",
        "        e = random.randrange(2 ** (keySize - 1), 2 ** (keySize))\n",
        "        if gcd(e, (p - 1) * (q - 1)) == 1:\n",
        "            break\n",
        "\n",
        "    # Step 3: Calculate d, the mod inverse of e:\n",
        "    print('Calculating d that is mod inverse of e...')\n",
        "    d = findModInverse(e, (p - 1) * (q - 1))\n",
        "\n",
        "    publicKey = (n, e)\n",
        "    privateKey = (n, d)\n",
        "\n",
        "    return (publicKey, privateKey)"
      ]
    },
    {
      "cell_type": "markdown",
      "id": "f9f77838",
      "metadata": {
        "id": "f9f77838"
      },
      "source": [
        "**Exemple:** Expliquez l'algorithme et exécutez-le plusieurs fois."
      ]
    },
    {
      "cell_type": "code",
      "execution_count": null,
      "id": "c85b8022",
      "metadata": {
        "id": "c85b8022",
        "colab": {
          "base_uri": "https://localhost:8080/"
        },
        "outputId": "9e7decb7-7543-457f-b810-948e6b67e6d2"
      },
      "outputs": [
        {
          "output_type": "stream",
          "name": "stdout",
          "text": [
            "Generating p & q primes...\n",
            "Temps d'exécution:  0.0004680156707763672 secondes\n",
            "Temps d'exécution:  0.0004506111145019531 secondes\n",
            "Generating e that is relatively prime to (p-1)*(q-1)...\n",
            "Calculating d that is mod inverse of e...\n",
            "Public key: (40094488017986111917356606424186783620880615376357892181141037619655737459467, 219500022290737028138941728908707632857)\n",
            "Private key: (40094488017986111917356606424186783620880615376357892181141037619655737459467, 35979302421911420696360416043062218602373534464238843537925194213675949530065)\n"
          ]
        }
      ],
      "source": [
        "# This is an example\n",
        "publicKey, privateKey = generateKey(128)\n",
        "print('Public key:', publicKey)\n",
        "print('Private key:', privateKey)"
      ]
    },
    {
      "cell_type": "markdown",
      "id": "da7de00b",
      "metadata": {
        "id": "da7de00b"
      },
      "source": [
        "# Cryptage RSA"
      ]
    },
    {
      "cell_type": "code",
      "execution_count": null,
      "id": "9d222451",
      "metadata": {
        "id": "9d222451"
      },
      "outputs": [],
      "source": [
        "# IMPORTANT: The block size MUST be less than or equal to the key size!\n",
        "# (Note: The block size is in bytes, the key size is in bits. There\n",
        "# are 8 bits in 1 byte.)\n",
        "\n",
        "DEFAULT_BLOCK_SIZE = 128 # 128 bytes\n",
        "BYTE_SIZE = 256 # One byte has 256 different values.\n",
        "\n",
        "def getBlocksFromText(message, blockSize=DEFAULT_BLOCK_SIZE):\n",
        "    # Converts a string message to a list of block integers. Each integer\n",
        "    # represents 128 (or whatever blockSize is set to) string characters.\n",
        "\n",
        "    messageBytes = message.encode('ascii') # convert the string to bytes\n",
        "\n",
        "    blockInts = []\n",
        "    for blockStart in range(0, len(messageBytes), blockSize):\n",
        "        # Calculate the block integer for this block of text\n",
        "        blockInt = 0\n",
        "        for i in range(blockStart, min(blockStart + blockSize, len(messageBytes))):\n",
        "            blockInt += messageBytes[i] * (BYTE_SIZE ** (i % blockSize))\n",
        "        blockInts.append(blockInt)\n",
        "    return blockInts\n",
        "\n",
        "\n",
        "def encryptMessage(message, key, blockSize=DEFAULT_BLOCK_SIZE):\n",
        "    # Converts the message string into a list of block integers, and then\n",
        "    # encrypts each block integer. Pass the PUBLIC key to encrypt.\n",
        "    encryptedBlocks = []\n",
        "    n, e = key\n",
        "\n",
        "    for block in getBlocksFromText(message, blockSize):\n",
        "        # ciphertext = plaintext ^ e mod n\n",
        "        encryptedBlocks.append(pow(block, e, n))\n",
        "    return encryptedBlocks\n",
        "\n",
        "\n",
        "def readKeyFile(keyFilename):\n",
        "    # Given the filename of a file that contains a public or private key,\n",
        "    # return the key as a (n,e) or (n,d) tuple value.\n",
        "    fo = open(keyFilename)\n",
        "    content = fo.read()\n",
        "    fo.close()\n",
        "    keySize, n, EorD = content.split(',')\n",
        "    return (int(keySize), int(n), int(EorD))\n",
        "\n",
        "\n",
        "def encryptAndWriteToFile(messageFilename, keyFilename, message, blockSize=DEFAULT_BLOCK_SIZE):\n",
        "    # Using a key from a key file, encrypt the message and save it to a\n",
        "    # file. Returns the encrypted message string.\n",
        "    keySize, n, e = readKeyFile(keyFilename)\n",
        "\n",
        "    # Check that key size is greater than block size.\n",
        "    if keySize < blockSize * 8: # * 8 to convert bytes to bits\n",
        "        sys.exit('ERROR: Block size is %s bits and key size is %s bits. The RSA cipher requires the block size to be equal to or greater than the key size. Either decrease the block size or use different keys.' % (blockSize * 8, keySize))\n",
        "\n",
        "    # Encrypt the message\n",
        "    encryptedBlocks = encryptMessage(message, (n, e), blockSize)\n",
        "\n",
        "    # Convert the large int values to one string value.\n",
        "    for i in range(len(encryptedBlocks)):\n",
        "        encryptedBlocks[i] = str(encryptedBlocks[i])\n",
        "    encryptedContent = ','.join(encryptedBlocks)\n",
        "\n",
        "    # Write out the encrypted string to the output file.\n",
        "    encryptedContent = '%s_%s_%s' % (len(message), blockSize, encryptedContent)\n",
        "    fo = open(messageFilename, 'w')\n",
        "    fo.write(encryptedContent)\n",
        "    fo.close()\n",
        "    # Also return the encrypted string.\n",
        "    return encryptedContent"
      ]
    },
    {
      "cell_type": "markdown",
      "id": "cb2238ea",
      "metadata": {
        "id": "cb2238ea"
      },
      "source": [
        "**Exemple:** le processus de cryptage. test avec  différents messages."
      ]
    },
    {
      "cell_type": "code",
      "execution_count": null,
      "id": "f52426ef",
      "metadata": {
        "id": "f52426ef"
      },
      "outputs": [],
      "source": [
        "# Runs a test that encrypts a message to a file or decrypts a message\n",
        "# from a file.\n",
        "filename = 'encrypted_file.txt' # the file to write to/read from\n",
        "\n",
        "message = '''\"Journalists belong in the gutter because that is where the ruling classes throw their guilty secrets.\" -Gerald Priestland \"The Founding Fathers gave the free press the protection it must have to bare the secrets of government and inform the people.\" -Hugo Black'''\n",
        "pubKeyFilename = 'your_file_pubkey.txt'\n",
        "print('Encrypting and writing to %s...' % (filename))\n",
        "encryptedText = encryptAndWriteToFile(filename, pubKeyFilename, message)\n",
        "\n",
        "print('Encrypted text:')\n",
        "print(encryptedText)"
      ]
    },
    {
      "cell_type": "markdown",
      "id": "91ee6399",
      "metadata": {
        "id": "91ee6399"
      },
      "source": [
        "# une nouvelle fonction qui lit un fichier contenant le texte en clair (message) et le sauvegarde dans la variable message."
      ]
    },
    {
      "cell_type": "markdown",
      "id": "d9278d9c",
      "metadata": {
        "id": "d9278d9c"
      },
      "source": [
        "# Décryptage RSA"
      ]
    },
    {
      "cell_type": "code",
      "execution_count": null,
      "id": "7833f50b",
      "metadata": {
        "id": "7833f50b"
      },
      "outputs": [],
      "source": [
        "# IMPORTANT: The block size MUST be less than or equal to the key size!\n",
        "# (Note: The block size is in bytes, the key size is in bits. There\n",
        "# are 8 bits in 1 byte.)\n",
        "\n",
        "DEFAULT_BLOCK_SIZE = 128 # 128 bytes\n",
        "BYTE_SIZE = 256 # One byte has 256 different values.\n",
        "\n",
        "def getTextFromBlocks(blockInts, messageLength, blockSize=DEFAULT_BLOCK_SIZE):\n",
        "    # Converts a list of block integers to the original message string.\n",
        "    # The original message length is needed to properly convert the last\n",
        "    # block integer.\n",
        "    message = []\n",
        "    for blockInt in blockInts:\n",
        "        blockMessage = []\n",
        "        for i in range(blockSize - 1, -1, -1):\n",
        "            if len(message) + i < messageLength:\n",
        "                # Decode the message string for the 128 (or whatever\n",
        "                # blockSize is set to) characters from this block integer.\n",
        "                asciiNumber = blockInt // (BYTE_SIZE ** i)\n",
        "                blockInt = blockInt % (BYTE_SIZE ** i)\n",
        "                blockMessage.insert(0, chr(asciiNumber))\n",
        "        message.extend(blockMessage)\n",
        "    return ''.join(message)\n",
        "\n",
        "def decryptMessage(encryptedBlocks, messageLength, key, blockSize=DEFAULT_BLOCK_SIZE):\n",
        "    # Decrypts a list of encrypted block ints into the original message\n",
        "    # string. The original message length is required to properly decrypt\n",
        "    # the last block. Be sure to pass the PRIVATE key to decrypt.\n",
        "    decryptedBlocks = []\n",
        "    n, d = key\n",
        "    for block in encryptedBlocks:\n",
        "        # plaintext = ciphertext ^ d mod n\n",
        "        decryptedBlocks.append(pow(block, d, n))\n",
        "    return getTextFromBlocks(decryptedBlocks, messageLength, blockSize)\n",
        "\n",
        "def readFromFileAndDecrypt(messageFilename, keyFilename):\n",
        "    # Using a key from a key file, read an encrypted message from a file\n",
        "    # and then decrypt it. Returns the decrypted message string.\n",
        "    keySize, n, d = readKeyFile(keyFilename)\n",
        "\n",
        "\n",
        "    # Read in the message length and the encrypted message from the file.\n",
        "    fo = open(messageFilename)\n",
        "    content = fo.read()\n",
        "    messageLength, blockSize, encryptedMessage = content.split('_')\n",
        "    messageLength = int(messageLength)\n",
        "    blockSize = int(blockSize)\n",
        "\n",
        "    # Check that key size is greater than block size.\n",
        "    if keySize < blockSize * 8: # * 8 to convert bytes to bits\n",
        "        sys.exit('ERROR: Block size is %s bits and key size is %s bits. The RSA cipher requires the block size to be equal to or greater than the key size. Did you specify the correct key file and encrypted file?' % (blockSize * 8, keySize))\n",
        "\n",
        "    # Convert the encrypted message into large int values.\n",
        "    encryptedBlocks = []\n",
        "    for block in encryptedMessage.split(','):\n",
        "        encryptedBlocks.append(int(block))\n",
        "\n",
        "    # Decrypt the large int values.\n",
        "    return decryptMessage(encryptedBlocks, messageLength, (n, d), blockSize)\n"
      ]
    },
    {
      "cell_type": "markdown",
      "id": "16af6834",
      "metadata": {
        "id": "16af6834"
      },
      "source": [
        "**Exemple:** Expliquez le processus de decryptage. test avec différents messages."
      ]
    },
    {
      "cell_type": "code",
      "execution_count": null,
      "id": "78d47cd3",
      "metadata": {
        "id": "78d47cd3"
      },
      "outputs": [],
      "source": [
        "privKeyFilename = 'your_file_privkey.txt'\n",
        "print('Reading from %s and decrypting...' % (filename))\n",
        "decryptedText = readFromFileAndDecrypt(filename, privKeyFilename)\n",
        "\n",
        "print('Decrypted text:')\n",
        "print(decryptedText)"
      ]
    }
  ],
  "metadata": {
    "kernelspec": {
      "display_name": "Python 3",
      "language": "python",
      "name": "python3"
    },
    "language_info": {
      "codemirror_mode": {
        "name": "ipython",
        "version": 3
      },
      "file_extension": ".py",
      "mimetype": "text/x-python",
      "name": "python",
      "nbconvert_exporter": "python",
      "pygments_lexer": "ipython3",
      "version": "3.10.9 (tags/v3.10.9:1dd9be6, Dec  6 2022, 20:01:21) [MSC v.1934 64 bit (AMD64)]"
    },
    "vscode": {
      "interpreter": {
        "hash": "854ad7b50770bedaf0cab730b1aaabb765566ea98036f134b639e260bede141e"
      }
    },
    "colab": {
      "provenance": []
    }
  },
  "nbformat": 4,
  "nbformat_minor": 5
}